{
 "cells": [
  {
   "cell_type": "code",
   "execution_count": 1,
   "metadata": {},
   "outputs": [],
   "source": [
    "import dlib\n",
    "import cv2\n",
    "import matplotlib.pyplot as plt\n",
    "import numpy as np\n",
    "import faceBlendCommon as fbc\n",
    "from dataPath import DATA_PATH\n",
    "import time\n",
    "%matplotlib inline"
   ]
  },
  {
   "cell_type": "code",
   "execution_count": 2,
   "metadata": {},
   "outputs": [],
   "source": [
    "import matplotlib\n",
    "matplotlib.rcParams['figure.figsize'] = (8.0,8.0)\n",
    "matplotlib.rcParams['image.cmap'] = 'gray'\n",
    "matplotlib.rcParams['image.interpolation'] = 'bilinear'"
   ]
  },
  {
   "cell_type": "code",
   "execution_count": 3,
   "metadata": {},
   "outputs": [],
   "source": [
    "# Initialize the dlib facial landmark detector variables\n",
    "modelPath = DATA_PATH + \"models/shape_predictor_68_face_landmarks.dat\"\n",
    "\n",
    "# initialize the dlib facial landmakr detector\n",
    "detector = dlib.get_frontal_face_detector()\n",
    "predictor = dlib.shape_predictor(modelPath)"
   ]
  },
  {
   "cell_type": "code",
   "execution_count": 4,
   "metadata": {},
   "outputs": [
    {
     "ename": "error",
     "evalue": "OpenCV(4.9.0) D:\\a\\opencv-python\\opencv-python\\opencv\\modules\\imgproc\\src\\resize.cpp:4152: error: (-215:Assertion failed) !ssize.empty() in function 'cv::resize'\n",
     "output_type": "error",
     "traceback": [
      "\u001b[1;31m---------------------------------------------------------------------------\u001b[0m",
      "\u001b[1;31merror\u001b[0m                                     Traceback (most recent call last)",
      "Cell \u001b[1;32mIn[4], line 10\u001b[0m\n\u001b[0;32m      7\u001b[0m img1Warped \u001b[38;5;241m=\u001b[39m np\u001b[38;5;241m.\u001b[39mcopy(img2)   \n\u001b[0;32m      9\u001b[0m \u001b[38;5;66;03m# Read array of corresponding points\u001b[39;00m\n\u001b[1;32m---> 10\u001b[0m points1 \u001b[38;5;241m=\u001b[39m \u001b[43mfbc\u001b[49m\u001b[38;5;241;43m.\u001b[39;49m\u001b[43mgetLandmarks\u001b[49m\u001b[43m(\u001b[49m\u001b[43mdetector\u001b[49m\u001b[43m,\u001b[49m\u001b[43m \u001b[49m\u001b[43mpredictor\u001b[49m\u001b[43m,\u001b[49m\u001b[43m \u001b[49m\u001b[43mimg1\u001b[49m\u001b[43m)\u001b[49m\n\u001b[0;32m     11\u001b[0m points2 \u001b[38;5;241m=\u001b[39m fbc\u001b[38;5;241m.\u001b[39mgetLandmarks(detector, predictor, img2)\n",
      "File \u001b[1;32mc:\\Users\\Acer\\workspace\\OpenCV-DLPT 2024\\Week3\\week3-python\\week3-python\\notebooks-python\\faceBlendCommon.py:218\u001b[0m, in \u001b[0;36mgetLandmarks\u001b[1;34m(faceDetector, landmarkDetector, im, FACE_DOWNSAMPLE_RATIO)\u001b[0m\n\u001b[0;32m    216\u001b[0m \u001b[38;5;28;01mdef\u001b[39;00m \u001b[38;5;21mgetLandmarks\u001b[39m(faceDetector, landmarkDetector, im, FACE_DOWNSAMPLE_RATIO \u001b[38;5;241m=\u001b[39m \u001b[38;5;241m1\u001b[39m):\n\u001b[0;32m    217\u001b[0m   points \u001b[38;5;241m=\u001b[39m []\n\u001b[1;32m--> 218\u001b[0m   imSmall \u001b[38;5;241m=\u001b[39m \u001b[43mcv2\u001b[49m\u001b[38;5;241;43m.\u001b[39;49m\u001b[43mresize\u001b[49m\u001b[43m(\u001b[49m\u001b[43mim\u001b[49m\u001b[43m,\u001b[49m\u001b[38;5;28;43;01mNone\u001b[39;49;00m\u001b[43m,\u001b[49m\n\u001b[0;32m    219\u001b[0m \u001b[43m                       \u001b[49m\u001b[43mfx\u001b[49m\u001b[38;5;241;43m=\u001b[39;49m\u001b[38;5;241;43m1.0\u001b[39;49m\u001b[38;5;241;43m/\u001b[39;49m\u001b[43mFACE_DOWNSAMPLE_RATIO\u001b[49m\u001b[43m,\u001b[49m\n\u001b[0;32m    220\u001b[0m \u001b[43m                       \u001b[49m\u001b[43mfy\u001b[49m\u001b[38;5;241;43m=\u001b[39;49m\u001b[38;5;241;43m1.0\u001b[39;49m\u001b[38;5;241;43m/\u001b[39;49m\u001b[43mFACE_DOWNSAMPLE_RATIO\u001b[49m\u001b[43m,\u001b[49m\n\u001b[0;32m    221\u001b[0m \u001b[43m                       \u001b[49m\u001b[43minterpolation\u001b[49m\u001b[43m \u001b[49m\u001b[38;5;241;43m=\u001b[39;49m\u001b[43m \u001b[49m\u001b[43mcv2\u001b[49m\u001b[38;5;241;43m.\u001b[39;49m\u001b[43mINTER_LINEAR\u001b[49m\u001b[43m)\u001b[49m\n\u001b[0;32m    223\u001b[0m   faceRects \u001b[38;5;241m=\u001b[39m faceDetector(imSmall, \u001b[38;5;241m0\u001b[39m)\n\u001b[0;32m    225\u001b[0m   \u001b[38;5;28;01mif\u001b[39;00m \u001b[38;5;28mlen\u001b[39m(faceRects) \u001b[38;5;241m>\u001b[39m \u001b[38;5;241m0\u001b[39m:\n",
      "\u001b[1;31merror\u001b[0m: OpenCV(4.9.0) D:\\a\\opencv-python\\opencv-python\\opencv\\modules\\imgproc\\src\\resize.cpp:4152: error: (-215:Assertion failed) !ssize.empty() in function 'cv::resize'\n"
     ]
    }
   ],
   "source": [
    "# Read images\n",
    "filename1 = DATA_PATH + 'images/beard1.jpg'\n",
    "filename2 = DATA_PATH + 'images/ted_cruz.jpg'\n",
    "\n",
    "img1 = cv2.imread(filename1)\n",
    "img2 = cv2.imread(filename2)\n",
    "img1Warped = np.copy(img2)   \n",
    "\n",
    "# Read array of corresponding points\n",
    "points1 = fbc.getLandmarks(detector, predictor, img1)\n",
    "points2 = fbc.getLandmarks(detector, predictor, img2)"
   ]
  },
  {
   "cell_type": "code",
   "execution_count": null,
   "metadata": {},
   "outputs": [],
   "source": []
  }
 ],
 "metadata": {
  "kernelspec": {
   "display_name": "vision",
   "language": "python",
   "name": "python3"
  },
  "language_info": {
   "codemirror_mode": {
    "name": "ipython",
    "version": 3
   },
   "file_extension": ".py",
   "mimetype": "text/x-python",
   "name": "python",
   "nbconvert_exporter": "python",
   "pygments_lexer": "ipython3",
   "version": "3.10.10"
  }
 },
 "nbformat": 4,
 "nbformat_minor": 2
}
